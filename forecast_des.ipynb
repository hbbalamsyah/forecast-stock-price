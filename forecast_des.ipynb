{
  "nbformat": 4,
  "nbformat_minor": 0,
  "metadata": {
    "colab": {
      "provenance": []
    },
    "kernelspec": {
      "name": "python3",
      "display_name": "Python 3"
    },
    "language_info": {
      "name": "python"
    }
  },
  "cells": [
    {
      "cell_type": "code",
      "execution_count": 57,
      "metadata": {
        "colab": {
          "base_uri": "https://localhost:8080/"
        },
        "id": "mx0de73G5ejj",
        "outputId": "0211b37f-9ef1-4009-8f3e-05bf4f2194dc"
      },
      "outputs": [
        {
          "output_type": "stream",
          "name": "stdout",
          "text": [
            "No. of days in train+validation set = 1008\n"
          ]
        }
      ],
      "source": [
        "%matplotlib inline\n",
        "\n",
        "import math\n",
        "import matplotlib\n",
        "import multiprocessing\n",
        "import numpy as np\n",
        "import pandas as pd\n",
        "import time\n",
        "\n",
        "from collections import defaultdict\n",
        "from datetime import date, datetime, timedelta\n",
        "from joblib import Parallel, delayed\n",
        "from matplotlib import pyplot as plt\n",
        "from pylab import rcParams\n",
        "from sklearn.metrics import mean_squared_error\n",
        "from tqdm import tqdm_notebook\n",
        "\n",
        "#### Input params ##################\n",
        "stk_path = \"/content/dataset BBTN Clean.csv\"\n",
        "H = 21\n",
        "train_size = 756              # Use 3 years of data as train set. Note there are about 252 trading days in a year\n",
        "val_size = 252                  # Use 1 year of data as validation set\n",
        "\n",
        "# alpha - smoothing coeff\n",
        "alphaMax = 0.999\n",
        "alphaMin = 0.01\n",
        "alphaStep = 0.01\n",
        "\n",
        "# beta - trend coeff\n",
        "betaMax = 0.999\n",
        "betaMin = 0.01\n",
        "betaStep = 0.01\n",
        "\n",
        "# for plot display\n",
        "daysBackward = 30\n",
        "daysForward = 60\n",
        "\n",
        "i_list = range(1008, 1008+84*5+42+1, 42) # we want to do a forecast on these days\n",
        "\n",
        "fontsize = 14\n",
        "ticklabelsize = 14\n",
        "####################################\n",
        "\n",
        "train_val_size = train_size + val_size # Size of train+validation set\n",
        "print(\"No. of days in train+validation set = \" + str(train_val_size))"
      ]
    },
    {
      "cell_type": "code",
      "source": [
        "print(\"We will start forecasting on day %d\" % (train_val_size+1))"
      ],
      "metadata": {
        "colab": {
          "base_uri": "https://localhost:8080/"
        },
        "id": "N3cyJjX85vw-",
        "outputId": "99efbbbe-5efd-479a-b178-b8f5293bc58a"
      },
      "execution_count": 58,
      "outputs": [
        {
          "output_type": "stream",
          "name": "stdout",
          "text": [
            "We will start forecasting on day 1009\n"
          ]
        }
      ]
    },
    {
      "cell_type": "code",
      "source": [
        "def get_mape(y_true, y_pred): \n",
        "    \"\"\"\n",
        "    Compute mean absolute percentage error (MAPE)\n",
        "    \"\"\"\n",
        "    y_true, y_pred = np.array(y_true), np.array(y_pred)\n",
        "    return np.mean(np.abs((y_true - y_pred) / y_true)) * 100\n",
        "\n",
        "def get_mae(a, b):\n",
        "    \"\"\"\n",
        "    Comp mean absolute error e_t = E[|a_t - b_t|]. a and b can be lists.\n",
        "    Returns a vector of len = len(a) = len(b)\n",
        "    \"\"\"\n",
        "    return np.mean(abs(np.array(a)-np.array(b)))\n",
        "\n",
        "def get_rmse(a, b):\n",
        "    \"\"\"\n",
        "    Comp RMSE. a and b can be lists.\n",
        "    Returns a scalar.\n",
        "    \"\"\"\n",
        "    return math.sqrt(np.mean((np.array(a)-np.array(b))**2))\n",
        "\n",
        "def double_exponential_smoothing(series, H, alpha=0.3, beta=0.3, return_all=False):\n",
        "    \"\"\"\n",
        "    Given a series and alpha, return series of smoothed points\n",
        "    Initialization: \n",
        "    S_1 = y_1, \n",
        "    b_1 = y_2 - y_1, \n",
        "    F_1 = 0, F_2 = y_1\n",
        "    level, S_t = alpha*y_t + (1-alpha)*(S_t-1 + b_t-1)\n",
        "    trend, b_t = beta*(S_t - S_t-1) + (1-beta)*b_t-1\n",
        "    forecast, F_t+1 = S_t + b_t\n",
        "    forecast, F_t+m = S_t + m*b_t\n",
        "    result[len(series)] is the estimate of series[len(series)]\n",
        "    Inputs\n",
        "        series: series to forecast\n",
        "        H     : forecast horizon\n",
        "        alpha : smoothing constant. \n",
        "                When alpha is close to 1, dampening is quick. \n",
        "                When alpha is close to 0, dampening is slow\n",
        "        beta  : smoothing constant for trend\n",
        "        return_all : if 1 return both original series + predictions, if 0 return predictions only\n",
        "    Outputs\n",
        "        the predictions of length H\n",
        "    \"\"\"\n",
        "    result = [0, series[0]]   \n",
        "    level = series[0]\n",
        "    trend = [series[1] - series[0]]\n",
        "    for n in range(1, len(series)+H-1):            \n",
        "        if n >= len(series): # we are forecasting\n",
        "            m = n - len(series) + 2\n",
        "            result.append(level + m*trend[-1]) # result[len(series)+1] is the estimate of series[len(series)+1]\n",
        "        else:\n",
        "            value = series[n]\n",
        "            last_level = level\n",
        "            level = alpha*value + (1-alpha)*(last_level+trend[n-1])\n",
        "            trend.append(beta*(level-last_level) + (1-beta)*trend[n-1])\n",
        "            result.append(level+trend[n]) \n",
        "            # e.g. result[2] uses series[1] \n",
        "            # ie. result[2] is the estimate of series[2]\n",
        "            # e.g. result[len(series)] uses series[len(series)-1] \n",
        "            # ie. result[len(series)] is the estimate of series[len(series)]\n",
        "    \n",
        "    if return_all == True:\n",
        "        return result, trend\n",
        "    else:\n",
        "        return result[len(series):len(series)+H], trend\n",
        "\n",
        "\n",
        "def get_error_metrics(series, train_size, H, alpha, beta):\n",
        "    \"\"\"\n",
        "    Given a series consisting of both train+validation, do predictions of forecast horizon H on the validation set, \n",
        "    at H/2 intervals.\n",
        "    Inputs\n",
        "        series     : series to forecast, with length = (train_size + val_size)\n",
        "        train_size : length of series to use as train ie. train set is series[:train_size]\n",
        "        H          : forecast horizon\n",
        "        alpha      : smoothing coeff\n",
        "        beta       : trend coeff\n",
        "    Outputs\n",
        "        mean of rmse, mean of mape, mean of mae\n",
        "    \"\"\"\n",
        "    # Predict using single exponential smoothing, and compute error metrics also\n",
        "    rmse = [] # root mean square error\n",
        "    mape = [] # mean absolute percentage error\n",
        "    mae = []  # mean absolute error\n",
        "    preds_dict = {}\n",
        "    \n",
        "    for i in range(train_size, len(series)-H+1, int(H/2)):\n",
        "        preds_list, trend = double_exponential_smoothing(series[i-train_size:i], H, alpha, beta)\n",
        "        \n",
        "        rmse.append(get_rmse(series[i:i+H], preds_list))\n",
        "        mape.append(get_mape(series[i:i+H], preds_list))\n",
        "        mae.append(get_mae(series[i:i+H], preds_list))\n",
        "        preds_dict[i] = preds_list\n",
        "    \n",
        "    return np.mean(rmse), np.mean(mape), np.mean(mae), preds_dict    \n",
        "    \n",
        "def hyperparam_tune_alpha_beta(series, train_size, H):\n",
        "    \"\"\"\n",
        "    Given a series, tune hyperparameter alpha, fit and predict\n",
        "    Inputs\n",
        "        series     : series to forecast, with length = (train_size + val_size)\n",
        "        train_size : length of series to use as train ie. train set is series[:train_size]\n",
        "        H          : forecast horizon\n",
        "    Outputs\n",
        "        optimum hyperparameters, error metrics dataframe\n",
        "    \"\"\"\n",
        "    err_dict = defaultdict(list)\n",
        "    alpha = alphaMin\n",
        "    while alpha <= alphaMax:\n",
        "        beta = betaMin\n",
        "        while beta <= betaMax:\n",
        "            rmse_mean, mape_mean, mae_mean, _ = get_error_metrics(series, train_size, H, alpha, beta)\n",
        "        \n",
        "            # Append alpha and beta\n",
        "            err_dict['alpha'].append(alpha)\n",
        "            err_dict['beta'].append(beta)\n",
        "    \n",
        "            # Compute error metrics\n",
        "            err_dict['rmse'].append(rmse_mean)\n",
        "            err_dict['mape'].append(mape_mean)\n",
        "            err_dict['mae'].append(mae_mean)\n",
        "            \n",
        "            # Increase beta by one step\n",
        "            beta = beta + betaStep\n",
        "        \n",
        "        # Increase alpha by one step\n",
        "        alpha = alpha + alphaStep\n",
        "    \n",
        "    # Convert to dataframe\n",
        "    err_df = pd.DataFrame(err_dict)\n",
        "    \n",
        "    # Get min RMSE\n",
        "    rmse_min = err_df['rmse'].min()\n",
        "    \n",
        "    return err_df[err_df['rmse'] == rmse_min]['alpha'].values[0], err_df[err_df['rmse'] == rmse_min]['beta'].values[0], err_df"
      ],
      "metadata": {
        "id": "7SSC_3bI5zAo"
      },
      "execution_count": 59,
      "outputs": []
    },
    {
      "cell_type": "code",
      "source": [
        "def get_error_metrics2(series, train_size, H, alpha, beta):\n",
        "    \"\"\"\n",
        "    Given a series consisting of both train+validation, do predictions of forecast horizon H on the validation set, \n",
        "    at H/2 intervals.\n",
        "    Inputs\n",
        "        series     : series to forecast, with length = (train_size + val_size)\n",
        "        train_size : length of series to use as train ie. train set is series[:train_size]\n",
        "        H          : forecast horizon\n",
        "        alpha      : smoothing coeff\n",
        "        beta       : trend coeff\n",
        "    Outputs\n",
        "        mean of rmse, mean of mape, mean of mae\n",
        "    \"\"\"\n",
        "    # Predict using single exponential smoothing, and compute error metrics also\n",
        "    rmse = [] # root mean square error\n",
        "    mape = [] # mean absolute percentage error\n",
        "    mae = []  # mean absolute error\n",
        "    preds_dict = {}\n",
        "    \n",
        "    for i in range(train_size, len(series)-H+1, int(H/2)):\n",
        "        preds_list, trend = double_exponential_smoothing(series[i-train_size:i], H, alpha, beta)\n",
        "        \n",
        "        rmse.append(get_rmse(series[i:i+H], preds_list))\n",
        "        mape.append(get_mape(series[i:i+H], preds_list))\n",
        "        mae.append(get_mae(series[i:i+H], preds_list))\n",
        "        preds_dict[i] = preds_list\n",
        "    \n",
        "    return np.mean(rmse), np.mean(mape), np.mean(mae), preds_dict, alpha, beta  \n",
        "\n",
        "def hyperparam_tune_alpha_beta_parallelized(series, train_size, H):\n",
        "    \"\"\"\n",
        "    This is a parallelized implementation of hyperparam_tune_alpha_beta.\n",
        "    Given a series, tune hyperparameter alpha, fit and predict\n",
        "    Inputs\n",
        "        series     : series to forecast, with length = (train_size + val_size)\n",
        "        train_size : length of series to use as train ie. train set is series[:train_size]\n",
        "        H          : forecast horizon\n",
        "    Outputs\n",
        "        optimum hyperparameters, error metrics dataframe\n",
        "    \"\"\"\n",
        "    num_cores = multiprocessing.cpu_count()\n",
        "    inputs = []\n",
        "    alpha = alphaMin\n",
        "    while alpha <= alphaMax:\n",
        "        beta = betaMin\n",
        "        while beta <= betaMax:\n",
        "            inputs.append((alpha, beta)) \n",
        "            beta = beta + betaStep\n",
        "        alpha = alpha + alphaStep\n",
        "        \n",
        "    results = Parallel(n_jobs=num_cores)(delayed(get_error_metrics2)(series, train_size, H, item[0], item[1]) for item in inputs)\n",
        "    # results has format [(rmse_mean1, mape_mean1, mae_mean1, preds_dict1, alpha1, beta1), (rmse_mean2, mape_mean2, mae_mean2, preds_dict2, alpha2, beta2), ...]   \n",
        "    \n",
        "    err_dict = defaultdict(list)\n",
        "    for item in results:\n",
        "        # Append error metrics\n",
        "        err_dict['rmse'].append(item[0])\n",
        "        err_dict['mape'].append(item[1])\n",
        "        err_dict['mae'].append(item[2])\n",
        "        \n",
        "        # Append alpha and beta\n",
        "        err_dict['alpha'].append(item[4])\n",
        "        err_dict['beta'].append(item[5])\n",
        "    \n",
        "    # Convert to dataframe\n",
        "    err_df = pd.DataFrame(err_dict)\n",
        "    \n",
        "    # Get min RMSE\n",
        "    rmse_min = err_df['rmse'].min()\n",
        "    \n",
        "    return err_df[err_df['rmse'] == rmse_min]['alpha'].values[0], err_df[err_df['rmse'] == rmse_min]['beta'].values[0], err_df"
      ],
      "metadata": {
        "id": "BxC1W6RP5z50"
      },
      "execution_count": 60,
      "outputs": []
    },
    {
      "cell_type": "code",
      "source": [
        "df = pd.read_csv(stk_path, sep = \",\")\n",
        "df['date'] = pd.to_datetime(df.date)\n",
        "\n",
        "# Convert Date column to datetime\n",
        "df.loc[:, 'date'] = pd.to_datetime(df['date'],format='%Y-%m-%d')\n",
        "\n",
        "# Change all column headings to be lower case, and remove spacing\n",
        "df.columns = [str(x).lower().replace(' ', '_') for x in df.columns]\n",
        "\n",
        "# Sort by datetime\n",
        "df.sort_values(by='date', inplace=True, ascending=True)\n",
        "\n",
        "df"
      ],
      "metadata": {
        "colab": {
          "base_uri": "https://localhost:8080/",
          "height": 423
        },
        "id": "Fu-dsa1F52hG",
        "outputId": "b069c384-9f03-48d2-e8bd-db7f146e4d2e"
      },
      "execution_count": 61,
      "outputs": [
        {
          "output_type": "execute_result",
          "data": {
            "text/plain": [
              "           date    open    high     low   close    adj_close    volume\n",
              "0    2017-12-04  3200.0  3290.0  3170.0  3290.0  3140.312500  51195400\n",
              "1    2017-12-05  3300.0  3400.0  3300.0  3400.0  3245.307617  58263700\n",
              "2    2017-12-06  3380.0  3450.0  3330.0  3380.0  3226.217529  39383400\n",
              "3    2017-12-07  3400.0  3550.0  3370.0  3550.0  3388.483154  23384000\n",
              "4    2017-12-08  3550.0  3550.0  3470.0  3540.0  3378.937744  15956900\n",
              "...         ...     ...     ...     ...     ...          ...       ...\n",
              "1224 2022-12-23  1355.0  1375.0  1335.0  1345.0  1345.000000  17067900\n",
              "1225 2022-12-26  1345.0  1375.0  1345.0  1375.0  1375.000000   9854700\n",
              "1226 2022-12-27  1380.0  1430.0  1380.0  1410.0  1410.000000  22268800\n",
              "1227 2022-12-28  1410.0  1415.0  1340.0  1355.0  1355.000000  41476000\n",
              "1228 2022-12-29  1330.0  1360.0  1325.0  1350.0  1350.000000  27404400\n",
              "\n",
              "[1229 rows x 7 columns]"
            ],
            "text/html": [
              "\n",
              "  <div id=\"df-5cbf144c-329b-46d3-9d34-923c77602f84\">\n",
              "    <div class=\"colab-df-container\">\n",
              "      <div>\n",
              "<style scoped>\n",
              "    .dataframe tbody tr th:only-of-type {\n",
              "        vertical-align: middle;\n",
              "    }\n",
              "\n",
              "    .dataframe tbody tr th {\n",
              "        vertical-align: top;\n",
              "    }\n",
              "\n",
              "    .dataframe thead th {\n",
              "        text-align: right;\n",
              "    }\n",
              "</style>\n",
              "<table border=\"1\" class=\"dataframe\">\n",
              "  <thead>\n",
              "    <tr style=\"text-align: right;\">\n",
              "      <th></th>\n",
              "      <th>date</th>\n",
              "      <th>open</th>\n",
              "      <th>high</th>\n",
              "      <th>low</th>\n",
              "      <th>close</th>\n",
              "      <th>adj_close</th>\n",
              "      <th>volume</th>\n",
              "    </tr>\n",
              "  </thead>\n",
              "  <tbody>\n",
              "    <tr>\n",
              "      <th>0</th>\n",
              "      <td>2017-12-04</td>\n",
              "      <td>3200.0</td>\n",
              "      <td>3290.0</td>\n",
              "      <td>3170.0</td>\n",
              "      <td>3290.0</td>\n",
              "      <td>3140.312500</td>\n",
              "      <td>51195400</td>\n",
              "    </tr>\n",
              "    <tr>\n",
              "      <th>1</th>\n",
              "      <td>2017-12-05</td>\n",
              "      <td>3300.0</td>\n",
              "      <td>3400.0</td>\n",
              "      <td>3300.0</td>\n",
              "      <td>3400.0</td>\n",
              "      <td>3245.307617</td>\n",
              "      <td>58263700</td>\n",
              "    </tr>\n",
              "    <tr>\n",
              "      <th>2</th>\n",
              "      <td>2017-12-06</td>\n",
              "      <td>3380.0</td>\n",
              "      <td>3450.0</td>\n",
              "      <td>3330.0</td>\n",
              "      <td>3380.0</td>\n",
              "      <td>3226.217529</td>\n",
              "      <td>39383400</td>\n",
              "    </tr>\n",
              "    <tr>\n",
              "      <th>3</th>\n",
              "      <td>2017-12-07</td>\n",
              "      <td>3400.0</td>\n",
              "      <td>3550.0</td>\n",
              "      <td>3370.0</td>\n",
              "      <td>3550.0</td>\n",
              "      <td>3388.483154</td>\n",
              "      <td>23384000</td>\n",
              "    </tr>\n",
              "    <tr>\n",
              "      <th>4</th>\n",
              "      <td>2017-12-08</td>\n",
              "      <td>3550.0</td>\n",
              "      <td>3550.0</td>\n",
              "      <td>3470.0</td>\n",
              "      <td>3540.0</td>\n",
              "      <td>3378.937744</td>\n",
              "      <td>15956900</td>\n",
              "    </tr>\n",
              "    <tr>\n",
              "      <th>...</th>\n",
              "      <td>...</td>\n",
              "      <td>...</td>\n",
              "      <td>...</td>\n",
              "      <td>...</td>\n",
              "      <td>...</td>\n",
              "      <td>...</td>\n",
              "      <td>...</td>\n",
              "    </tr>\n",
              "    <tr>\n",
              "      <th>1224</th>\n",
              "      <td>2022-12-23</td>\n",
              "      <td>1355.0</td>\n",
              "      <td>1375.0</td>\n",
              "      <td>1335.0</td>\n",
              "      <td>1345.0</td>\n",
              "      <td>1345.000000</td>\n",
              "      <td>17067900</td>\n",
              "    </tr>\n",
              "    <tr>\n",
              "      <th>1225</th>\n",
              "      <td>2022-12-26</td>\n",
              "      <td>1345.0</td>\n",
              "      <td>1375.0</td>\n",
              "      <td>1345.0</td>\n",
              "      <td>1375.0</td>\n",
              "      <td>1375.000000</td>\n",
              "      <td>9854700</td>\n",
              "    </tr>\n",
              "    <tr>\n",
              "      <th>1226</th>\n",
              "      <td>2022-12-27</td>\n",
              "      <td>1380.0</td>\n",
              "      <td>1430.0</td>\n",
              "      <td>1380.0</td>\n",
              "      <td>1410.0</td>\n",
              "      <td>1410.000000</td>\n",
              "      <td>22268800</td>\n",
              "    </tr>\n",
              "    <tr>\n",
              "      <th>1227</th>\n",
              "      <td>2022-12-28</td>\n",
              "      <td>1410.0</td>\n",
              "      <td>1415.0</td>\n",
              "      <td>1340.0</td>\n",
              "      <td>1355.0</td>\n",
              "      <td>1355.000000</td>\n",
              "      <td>41476000</td>\n",
              "    </tr>\n",
              "    <tr>\n",
              "      <th>1228</th>\n",
              "      <td>2022-12-29</td>\n",
              "      <td>1330.0</td>\n",
              "      <td>1360.0</td>\n",
              "      <td>1325.0</td>\n",
              "      <td>1350.0</td>\n",
              "      <td>1350.000000</td>\n",
              "      <td>27404400</td>\n",
              "    </tr>\n",
              "  </tbody>\n",
              "</table>\n",
              "<p>1229 rows × 7 columns</p>\n",
              "</div>\n",
              "      <button class=\"colab-df-convert\" onclick=\"convertToInteractive('df-5cbf144c-329b-46d3-9d34-923c77602f84')\"\n",
              "              title=\"Convert this dataframe to an interactive table.\"\n",
              "              style=\"display:none;\">\n",
              "        \n",
              "  <svg xmlns=\"http://www.w3.org/2000/svg\" height=\"24px\"viewBox=\"0 0 24 24\"\n",
              "       width=\"24px\">\n",
              "    <path d=\"M0 0h24v24H0V0z\" fill=\"none\"/>\n",
              "    <path d=\"M18.56 5.44l.94 2.06.94-2.06 2.06-.94-2.06-.94-.94-2.06-.94 2.06-2.06.94zm-11 1L8.5 8.5l.94-2.06 2.06-.94-2.06-.94L8.5 2.5l-.94 2.06-2.06.94zm10 10l.94 2.06.94-2.06 2.06-.94-2.06-.94-.94-2.06-.94 2.06-2.06.94z\"/><path d=\"M17.41 7.96l-1.37-1.37c-.4-.4-.92-.59-1.43-.59-.52 0-1.04.2-1.43.59L10.3 9.45l-7.72 7.72c-.78.78-.78 2.05 0 2.83L4 21.41c.39.39.9.59 1.41.59.51 0 1.02-.2 1.41-.59l7.78-7.78 2.81-2.81c.8-.78.8-2.07 0-2.86zM5.41 20L4 18.59l7.72-7.72 1.47 1.35L5.41 20z\"/>\n",
              "  </svg>\n",
              "      </button>\n",
              "      \n",
              "  <style>\n",
              "    .colab-df-container {\n",
              "      display:flex;\n",
              "      flex-wrap:wrap;\n",
              "      gap: 12px;\n",
              "    }\n",
              "\n",
              "    .colab-df-convert {\n",
              "      background-color: #E8F0FE;\n",
              "      border: none;\n",
              "      border-radius: 50%;\n",
              "      cursor: pointer;\n",
              "      display: none;\n",
              "      fill: #1967D2;\n",
              "      height: 32px;\n",
              "      padding: 0 0 0 0;\n",
              "      width: 32px;\n",
              "    }\n",
              "\n",
              "    .colab-df-convert:hover {\n",
              "      background-color: #E2EBFA;\n",
              "      box-shadow: 0px 1px 2px rgba(60, 64, 67, 0.3), 0px 1px 3px 1px rgba(60, 64, 67, 0.15);\n",
              "      fill: #174EA6;\n",
              "    }\n",
              "\n",
              "    [theme=dark] .colab-df-convert {\n",
              "      background-color: #3B4455;\n",
              "      fill: #D2E3FC;\n",
              "    }\n",
              "\n",
              "    [theme=dark] .colab-df-convert:hover {\n",
              "      background-color: #434B5C;\n",
              "      box-shadow: 0px 1px 3px 1px rgba(0, 0, 0, 0.15);\n",
              "      filter: drop-shadow(0px 1px 2px rgba(0, 0, 0, 0.3));\n",
              "      fill: #FFFFFF;\n",
              "    }\n",
              "  </style>\n",
              "\n",
              "      <script>\n",
              "        const buttonEl =\n",
              "          document.querySelector('#df-5cbf144c-329b-46d3-9d34-923c77602f84 button.colab-df-convert');\n",
              "        buttonEl.style.display =\n",
              "          google.colab.kernel.accessAllowed ? 'block' : 'none';\n",
              "\n",
              "        async function convertToInteractive(key) {\n",
              "          const element = document.querySelector('#df-5cbf144c-329b-46d3-9d34-923c77602f84');\n",
              "          const dataTable =\n",
              "            await google.colab.kernel.invokeFunction('convertToInteractive',\n",
              "                                                     [key], {});\n",
              "          if (!dataTable) return;\n",
              "\n",
              "          const docLinkHtml = 'Like what you see? Visit the ' +\n",
              "            '<a target=\"_blank\" href=https://colab.research.google.com/notebooks/data_table.ipynb>data table notebook</a>'\n",
              "            + ' to learn more about interactive tables.';\n",
              "          element.innerHTML = '';\n",
              "          dataTable['output_type'] = 'display_data';\n",
              "          await google.colab.output.renderOutput(dataTable, element);\n",
              "          const docLink = document.createElement('div');\n",
              "          docLink.innerHTML = docLinkHtml;\n",
              "          element.appendChild(docLink);\n",
              "        }\n",
              "      </script>\n",
              "    </div>\n",
              "  </div>\n",
              "  "
            ]
          },
          "metadata": {},
          "execution_count": 61
        }
      ]
    },
    {
      "cell_type": "code",
      "source": [
        "df['date'].min(), df['date'].max() \n"
      ],
      "metadata": {
        "id": "uht7mnmT7KlK",
        "colab": {
          "base_uri": "https://localhost:8080/"
        },
        "outputId": "64d10e49-082e-4bb6-ef35-8694b5c2d2d8"
      },
      "execution_count": 62,
      "outputs": [
        {
          "output_type": "execute_result",
          "data": {
            "text/plain": [
              "(Timestamp('2017-12-04 00:00:00'), Timestamp('2022-12-29 00:00:00'))"
            ]
          },
          "metadata": {},
          "execution_count": 62
        }
      ]
    },
    {
      "cell_type": "code",
      "source": [
        "# Plot adjusted close over time\n",
        "rcParams['figure.figsize'] = 10, 8 # width 10, height 8\n",
        "\n",
        "ax = df.plot(x='date', y='adj_close', style='b-', title='Harga Saham BBTN berdasarkan adjusted closing price', grid=True)\n",
        "ax.set_xlabel(\"date\")\n",
        "ax.set_ylabel(\"Rupiah\")"
      ],
      "metadata": {
        "colab": {
          "base_uri": "https://localhost:8080/",
          "height": 499
        },
        "id": "2S9Fl-qT7MMc",
        "outputId": "aaa0cadd-f323-4d2a-d133-0123464b812c"
      },
      "execution_count": 63,
      "outputs": [
        {
          "output_type": "execute_result",
          "data": {
            "text/plain": [
              "Text(0, 0.5, 'Rupiah')"
            ]
          },
          "metadata": {},
          "execution_count": 63
        },
        {
          "output_type": "display_data",
          "data": {
            "text/plain": [
              "<Figure size 720x576 with 1 Axes>"
            ],
            "image/png": "[encoded data removed]"
          },
          "metadata": {
            "needs_background": "light"
          }
        }
      ]
    },
    {
      "cell_type": "code",
      "source": [
        "i = 1008 # Predict for day i, for the next H-1 days. Note indexing of days start from 0.\n",
        "print(\"Predicting on day %d, date %s, with forecast horizon H = %d\" % (i, df.iloc[i]['date'], H))"
      ],
      "metadata": {
        "colab": {
          "base_uri": "https://localhost:8080/"
        },
        "id": "URS72vFO7W47",
        "outputId": "d6dc59ea-5c87-4569-e1ec-b833af0821e2"
      },
      "execution_count": 64,
      "outputs": [
        {
          "output_type": "stream",
          "name": "stdout",
          "text": [
            "Predicting on day 1008, date 2022-02-07 00:00:00, with forecast horizon H = 21\n"
          ]
        }
      ]
    },
    {
      "cell_type": "code",
      "source": [
        "# Predict\n",
        "preds_list, trend = double_exponential_smoothing(df['adj_close'][i-train_val_size:i].values, H, 0.3, 0.01, True)\n",
        "print(\"For forecast horizon %d, predicting on day %d, date %s, the RMSE is %f\" % (H, i, df['date'][i], get_rmse(df[i:i+H]['adj_close'], preds_list[train_val_size:train_val_size+H])))\n",
        "print(\"For forecast horizon %d, predicting on day %d, date %s, the mean MAPE is %f\" % (H, i, df['date'][i], get_mape(df[i:i+H]['adj_close'], preds_list[train_val_size:train_val_size+H])))\n",
        "print(\"For forecast horizon %d, predicting on day %d, date %s, the mean MAE is %f\" % (H, i, df['date'][i], get_mae(df[i:i+H]['adj_close'], preds_list[train_val_size:train_val_size+H])))"
      ],
      "metadata": {
        "colab": {
          "base_uri": "https://localhost:8080/"
        },
        "id": "dzH_cfrp8fEf",
        "outputId": "71252447-659d-4f9d-d0fe-0ecc2861cf5b"
      },
      "execution_count": 65,
      "outputs": [
        {
          "output_type": "stream",
          "name": "stdout",
          "text": [
            "For forecast horizon 21, predicting on day 1008, date 2022-02-07 00:00:00, the RMSE is 85.232687\n",
            "For forecast horizon 21, predicting on day 1008, date 2022-02-07 00:00:00, the mean MAPE is 4.372112\n",
            "For forecast horizon 21, predicting on day 1008, date 2022-02-07 00:00:00, the mean MAE is 76.588244\n"
          ]
        }
      ]
    },
    {
      "cell_type": "code",
      "source": [
        "# Plot the predictions\n",
        "rcParams['figure.figsize'] = 10, 8 # width 10, height 8\n",
        "matplotlib.rcParams.update({'font.size': 14})\n",
        "\n",
        "ax = df.plot(x='date', y='adj_close', style='bx-', grid=True)\n",
        "\n",
        "# Plot the predictions\n",
        "ax.plot(df['date'][i-train_val_size:i+H], preds_list, marker='s', color='r')\n",
        "ax.plot(df['date'][i:i+H], preds_list[train_val_size:train_val_size+H], marker='x')\n",
        "    \n",
        "ax.set_xlabel(\"date\")\n",
        "ax.set_ylabel(\"Rupiah\")\n",
        "ax.legend(['adj_close', 'predictions'])\n",
        "ax.set_ylim([min(min(preds_list[1:]), df[(df['date']>=df['date'][i]-timedelta(days=daysBackward)) & (df['date']<=df['date'][i]+timedelta(days=daysForward))]['adj_close'].min()), \n",
        "             max(max(preds_list[1:]), df[(df['date']>=df['date'][i]-timedelta(days=daysBackward)) & (df['date']<=df['date'][i]+timedelta(days=daysForward))]['adj_close'].max())])\n",
        "ax.set_xlim([df['date'][i-train_val_size+1], df['date'][i]+timedelta(days=H)])\n",
        "ax.set_xlim([pd.to_datetime('2019-06-01', format = '%Y-%m-%d'),\n",
        "             pd.to_datetime('2020-03-08', format = '%Y-%m-%d')])\n",
        "# ax.set_ylim([60, 85])"
      ],
      "metadata": {
        "colab": {
          "base_uri": "https://localhost:8080/",
          "height": 507
        },
        "id": "v0z-1A9cDYsV",
        "outputId": "5462ec3c-e3c1-4cbe-d318-49544505f020"
      },
      "execution_count": 66,
      "outputs": [
        {
          "output_type": "execute_result",
          "data": {
            "text/plain": [
              "(737211.0, 737492.0)"
            ]
          },
          "metadata": {},
          "execution_count": 66
        },
        {
          "output_type": "display_data",
          "data": {
            "text/plain": [
              "<Figure size 720x576 with 1 Axes>"
            ],
            "image/png": "[encoded data removed]"
          },
          "metadata": {
            "needs_background": "light"
          }
        }
      ]
    },
    {
      "cell_type": "code",
      "source": [
        "# Plot the trend\n",
        "rcParams['figure.figsize'] = 10, 8 # width 10, height 8\n",
        "matplotlib.rcParams.update({'font.size': 14})\n",
        "\n",
        "plt.plot(trend)\n",
        "plt.grid()\n",
        "# plt.xlim([0, 252])"
      ],
      "metadata": {
        "colab": {
          "base_uri": "https://localhost:8080/",
          "height": 487
        },
        "id": "f-Wyi6PwGrFM",
        "outputId": "4d94b39b-07ed-4502-c7a8-48072d4cb660"
      },
      "execution_count": 67,
      "outputs": [
        {
          "output_type": "display_data",
          "data": {
            "text/plain": [
              "<Figure size 720x576 with 1 Axes>"
            ],
            "image/png": "[encoded data removed]"
          },
          "metadata": {
            "needs_background": "light"
          }
        }
      ]
    },
    {
      "cell_type": "markdown",
      "source": [
        "Predict for a specific H (forecast horizon) and a specific date"
      ],
      "metadata": {
        "id": "UdBvWmGwHGUt"
      }
    },
    {
      "cell_type": "code",
      "source": [
        "i = 1008 # Predict for day i, for the next H-1 days. Note indexing of days start from 0.\n",
        "print(\"Predicting on day %d, date %s, with forecast horizon H = %d\" % (i, df.iloc[i]['date'], H))"
      ],
      "metadata": {
        "colab": {
          "base_uri": "https://localhost:8080/"
        },
        "id": "caemw5jGHHCp",
        "outputId": "e14a1897-eaf8-4b9b-af53-58a81346fe50"
      },
      "execution_count": 68,
      "outputs": [
        {
          "output_type": "stream",
          "name": "stdout",
          "text": [
            "Predicting on day 1008, date 2022-02-07 00:00:00, with forecast horizon H = 21\n"
          ]
        }
      ]
    },
    {
      "cell_type": "code",
      "source": [
        "# Predict\n",
        "preds_list, trend = double_exponential_smoothing(df['adj_close'][i-train_val_size:i].values, H)\n",
        "print(\"For forecast horizon %d, predicting on day %d, date %s, the RMSE is %f\" % (H, i, df['date'][i], get_rmse(df[i:i+H]['adj_close'], preds_list)))\n",
        "print(\"For forecast horizon %d, predicting on day %d, date %s, the mean MAPE is %f\" % (H, i, df['date'][i], get_mape(df[i:i+H]['adj_close'], preds_list)))\n",
        "print(\"For forecast horizon %d, predicting on day %d, date %s, the mean MAE is %f\" % (H, i, df['date'][i], get_mae(df[i:i+H]['adj_close'], preds_list)))"
      ],
      "metadata": {
        "colab": {
          "base_uri": "https://localhost:8080/"
        },
        "id": "KDtzIA1kHJch",
        "outputId": "3c57f9ec-14f2-4c7a-d9a4-d4c90ae62a61"
      },
      "execution_count": 69,
      "outputs": [
        {
          "output_type": "stream",
          "name": "stdout",
          "text": [
            "For forecast horizon 21, predicting on day 1008, date 2022-02-07 00:00:00, the RMSE is 105.559076\n",
            "For forecast horizon 21, predicting on day 1008, date 2022-02-07 00:00:00, the mean MAPE is 4.969381\n",
            "For forecast horizon 21, predicting on day 1008, date 2022-02-07 00:00:00, the mean MAE is 84.422163\n"
          ]
        }
      ]
    },
    {
      "cell_type": "code",
      "source": [
        "# Plot the predictions\n",
        "rcParams['figure.figsize'] = 10, 8 # width 10, height 8\n",
        "matplotlib.rcParams.update({'font.size': 14})\n",
        "\n",
        "ax = df.plot(x='date', y='adj_close', style='bx-', grid=True)\n",
        "\n",
        "# Plot the predictions\n",
        "ax.plot(df['date'][i:i+H], preds_list, marker='x')\n",
        "    \n",
        "ax.set_xlabel(\"date\")\n",
        "ax.set_ylabel(\"USD\")\n",
        "ax.legend(['adj_close', 'predictions'])\n",
        "ax.set_ylim([min(min(preds_list), df[(df['date']>=df['date'][i]-timedelta(days=daysBackward)) & (df['date']<=df['date'][i]+timedelta(days=daysForward))]['adj_close'].min()), \n",
        "             max(max(preds_list), df[(df['date']>=df['date'][i]-timedelta(days=daysBackward)) & (df['date']<=df['date'][i]+timedelta(days=daysForward))]['adj_close'].max())])\n",
        "ax.set_xlim([df['date'][i]-timedelta(days=daysBackward), df['date'][i]+timedelta(days=daysForward)])"
      ],
      "metadata": {
        "colab": {
          "base_uri": "https://localhost:8080/",
          "height": 518
        },
        "id": "5oSNCYwJHL3J",
        "outputId": "3bf99ed0-284f-4155-f1d8-f83e3390b82c"
      },
      "execution_count": 70,
      "outputs": [
        {
          "output_type": "execute_result",
          "data": {
            "text/plain": [
              "(738163.0, 738253.0)"
            ]
          },
          "metadata": {},
          "execution_count": 70
        },
        {
          "output_type": "display_data",
          "data": {
            "text/plain": [
              "<Figure size 720x576 with 1 Axes>"
            ],
            "image/png": "[encoded data removed]"
          },
          "metadata": {
            "needs_background": "light"
          }
        }
      ]
    },
    {
      "cell_type": "markdown",
      "source": [
        "Predict for a specific H (forecast horizon) and a specific date, with hyperparameter tuning - alpha, beta"
      ],
      "metadata": {
        "id": "91umimD8HYV0"
      }
    },
    {
      "cell_type": "code",
      "source": [
        "i = 1008 # Predict for day i, for the next H-1 days. Note indexing of days start from 0.\n",
        "print(\"Prediksi pada hari %d, tanggal %s, prediksi dengan horizon H = %d\" % (i, df.iloc[i]['date'], H))"
      ],
      "metadata": {
        "colab": {
          "base_uri": "https://localhost:8080/"
        },
        "id": "FkOSdrOjHXtF",
        "outputId": "a7e5c883-8c27-4ebc-dfff-eb2635bf048d"
      },
      "execution_count": 71,
      "outputs": [
        {
          "output_type": "stream",
          "name": "stdout",
          "text": [
            "Predicting on day 1008, date 2022-02-07 00:00:00, with forecast horizon H = 21\n"
          ]
        }
      ]
    },
    {
      "cell_type": "code",
      "source": [
        "# Get optimum hyperparams - parallelized\n",
        "tic = time.time()\n",
        "alpha_opt, beta_opt, err_df = hyperparam_tune_alpha_beta_parallelized(df['adj_close'][i-train_val_size:i].values, train_size, H)\n",
        "toc = time.time()\n",
        "print(\"Time taken = {0:.2} mins\".format((toc-tic)/60.0))\n",
        "\n",
        "print(\"alpha_opt = \" + str(alpha_opt))\n",
        "print(\"beta_opt = \" + str(beta_opt))\n",
        "print(\"rmse opt = \" + str(err_df[(err_df['alpha']==alpha_opt) & (err_df['beta']==beta_opt)]['rmse'].values[0]))\n",
        "err_df"
      ],
      "metadata": {
        "colab": {
          "base_uri": "https://localhost:8080/",
          "height": 497
        },
        "id": "9hv8_KGVHco_",
        "outputId": "1d189354-6642-4498-d583-df993de2904d"
      },
      "execution_count": 72,
      "outputs": [
        {
          "output_type": "stream",
          "name": "stdout",
          "text": [
            "Time taken = 3.7 mins\n",
            "alpha_opt = 0.37000000000000016\n",
            "beta_opt = 0.01\n",
            "rmse opt = 122.47378972192621\n"
          ]
        },
        {
          "output_type": "execute_result",
          "data": {
            "text/plain": [
              "            rmse       mape         mae  alpha  beta\n",
              "0     228.857947  13.521986  217.730248   0.01  0.01\n",
              "1     341.418364  21.760103  331.038524   0.01  0.02\n",
              "2     456.463533  29.096956  445.520289   0.01  0.03\n",
              "3     507.674585  31.274235  493.668243   0.01  0.04\n",
              "4     479.363650  28.992393  466.422356   0.01  0.05\n",
              "...          ...        ...         ...    ...   ...\n",
              "9796  292.367056  15.631676  256.664840   0.99  0.95\n",
              "9797  294.355565  15.727671  258.315841   0.99  0.96\n",
              "9798  296.386458  15.827847  260.037863   0.99  0.97\n",
              "9799  298.469465  15.934764  261.873861   0.99  0.98\n",
              "9800  300.617092  16.042243  263.721362   0.99  0.99\n",
              "\n",
              "[9801 rows x 5 columns]"
            ],
            "text/html": [
              "\n",
              "  <div id=\"df-a5e52d53-e98a-46f3-9fca-56a59277bef2\">\n",
              "    <div class=\"colab-df-container\">\n",
              "      <div>\n",
              "<style scoped>\n",
              "    .dataframe tbody tr th:only-of-type {\n",
              "        vertical-align: middle;\n",
              "    }\n",
              "\n",
              "    .dataframe tbody tr th {\n",
              "        vertical-align: top;\n",
              "    }\n",
              "\n",
              "    .dataframe thead th {\n",
              "        text-align: right;\n",
              "    }\n",
              "</style>\n",
              "<table border=\"1\" class=\"dataframe\">\n",
              "  <thead>\n",
              "    <tr style=\"text-align: right;\">\n",
              "      <th></th>\n",
              "      <th>rmse</th>\n",
              "      <th>mape</th>\n",
              "      <th>mae</th>\n",
              "      <th>alpha</th>\n",
              "      <th>beta</th>\n",
              "    </tr>\n",
              "  </thead>\n",
              "  <tbody>\n",
              "    <tr>\n",
              "      <th>0</th>\n",
              "      <td>228.857947</td>\n",
              "      <td>13.521986</td>\n",
              "      <td>217.730248</td>\n",
              "      <td>0.01</td>\n",
              "      <td>0.01</td>\n",
              "    </tr>\n",
              "    <tr>\n",
              "      <th>1</th>\n",
              "      <td>341.418364</td>\n",
              "      <td>21.760103</td>\n",
              "      <td>331.038524</td>\n",
              "      <td>0.01</td>\n",
              "      <td>0.02</td>\n",
              "    </tr>\n",
              "    <tr>\n",
              "      <th>2</th>\n",
              "      <td>456.463533</td>\n",
              "      <td>29.096956</td>\n",
              "      <td>445.520289</td>\n",
              "      <td>0.01</td>\n",
              "      <td>0.03</td>\n",
              "    </tr>\n",
              "    <tr>\n",
              "      <th>3</th>\n",
              "      <td>507.674585</td>\n",
              "      <td>31.274235</td>\n",
              "      <td>493.668243</td>\n",
              "      <td>0.01</td>\n",
              "      <td>0.04</td>\n",
              "    </tr>\n",
              "    <tr>\n",
              "      <th>4</th>\n",
              "      <td>479.363650</td>\n",
              "      <td>28.992393</td>\n",
              "      <td>466.422356</td>\n",
              "      <td>0.01</td>\n",
              "      <td>0.05</td>\n",
              "    </tr>\n",
              "    <tr>\n",
              "      <th>...</th>\n",
              "      <td>...</td>\n",
              "      <td>...</td>\n",
              "      <td>...</td>\n",
              "      <td>...</td>\n",
              "      <td>...</td>\n",
              "    </tr>\n",
              "    <tr>\n",
              "      <th>9796</th>\n",
              "      <td>292.367056</td>\n",
              "      <td>15.631676</td>\n",
              "      <td>256.664840</td>\n",
              "      <td>0.99</td>\n",
              "      <td>0.95</td>\n",
              "    </tr>\n",
              "    <tr>\n",
              "      <th>9797</th>\n",
              "      <td>294.355565</td>\n",
              "      <td>15.727671</td>\n",
              "      <td>258.315841</td>\n",
              "      <td>0.99</td>\n",
              "      <td>0.96</td>\n",
              "    </tr>\n",
              "    <tr>\n",
              "      <th>9798</th>\n",
              "      <td>296.386458</td>\n",
              "      <td>15.827847</td>\n",
              "      <td>260.037863</td>\n",
              "      <td>0.99</td>\n",
              "      <td>0.97</td>\n",
              "    </tr>\n",
              "    <tr>\n",
              "      <th>9799</th>\n",
              "      <td>298.469465</td>\n",
              "      <td>15.934764</td>\n",
              "      <td>261.873861</td>\n",
              "      <td>0.99</td>\n",
              "      <td>0.98</td>\n",
              "    </tr>\n",
              "    <tr>\n",
              "      <th>9800</th>\n",
              "      <td>300.617092</td>\n",
              "      <td>16.042243</td>\n",
              "      <td>263.721362</td>\n",
              "      <td>0.99</td>\n",
              "      <td>0.99</td>\n",
              "    </tr>\n",
              "  </tbody>\n",
              "</table>\n",
              "<p>9801 rows × 5 columns</p>\n",
              "</div>\n",
              "      <button class=\"colab-df-convert\" onclick=\"convertToInteractive('df-a5e52d53-e98a-46f3-9fca-56a59277bef2')\"\n",
              "              title=\"Convert this dataframe to an interactive table.\"\n",
              "              style=\"display:none;\">\n",
              "        \n",
              "  <svg xmlns=\"http://www.w3.org/2000/svg\" height=\"24px\"viewBox=\"0 0 24 24\"\n",
              "       width=\"24px\">\n",
              "    <path d=\"M0 0h24v24H0V0z\" fill=\"none\"/>\n",
              "    <path d=\"M18.56 5.44l.94 2.06.94-2.06 2.06-.94-2.06-.94-.94-2.06-.94 2.06-2.06.94zm-11 1L8.5 8.5l.94-2.06 2.06-.94-2.06-.94L8.5 2.5l-.94 2.06-2.06.94zm10 10l.94 2.06.94-2.06 2.06-.94-2.06-.94-.94-2.06-.94 2.06-2.06.94z\"/><path d=\"M17.41 7.96l-1.37-1.37c-.4-.4-.92-.59-1.43-.59-.52 0-1.04.2-1.43.59L10.3 9.45l-7.72 7.72c-.78.78-.78 2.05 0 2.83L4 21.41c.39.39.9.59 1.41.59.51 0 1.02-.2 1.41-.59l7.78-7.78 2.81-2.81c.8-.78.8-2.07 0-2.86zM5.41 20L4 18.59l7.72-7.72 1.47 1.35L5.41 20z\"/>\n",
              "  </svg>\n",
              "      </button>\n",
              "      \n",
              "  <style>\n",
              "    .colab-df-container {\n",
              "      display:flex;\n",
              "      flex-wrap:wrap;\n",
              "      gap: 12px;\n",
              "    }\n",
              "\n",
              "    .colab-df-convert {\n",
              "      background-color: #E8F0FE;\n",
              "      border: none;\n",
              "      border-radius: 50%;\n",
              "      cursor: pointer;\n",
              "      display: none;\n",
              "      fill: #1967D2;\n",
              "      height: 32px;\n",
              "      padding: 0 0 0 0;\n",
              "      width: 32px;\n",
              "    }\n",
              "\n",
              "    .colab-df-convert:hover {\n",
              "      background-color: #E2EBFA;\n",
              "      box-shadow: 0px 1px 2px rgba(60, 64, 67, 0.3), 0px 1px 3px 1px rgba(60, 64, 67, 0.15);\n",
              "      fill: #174EA6;\n",
              "    }\n",
              "\n",
              "    [theme=dark] .colab-df-convert {\n",
              "      background-color: #3B4455;\n",
              "      fill: #D2E3FC;\n",
              "    }\n",
              "\n",
              "    [theme=dark] .colab-df-convert:hover {\n",
              "      background-color: #434B5C;\n",
              "      box-shadow: 0px 1px 3px 1px rgba(0, 0, 0, 0.15);\n",
              "      filter: drop-shadow(0px 1px 2px rgba(0, 0, 0, 0.3));\n",
              "      fill: #FFFFFF;\n",
              "    }\n",
              "  </style>\n",
              "\n",
              "      <script>\n",
              "        const buttonEl =\n",
              "          document.querySelector('#df-a5e52d53-e98a-46f3-9fca-56a59277bef2 button.colab-df-convert');\n",
              "        buttonEl.style.display =\n",
              "          google.colab.kernel.accessAllowed ? 'block' : 'none';\n",
              "\n",
              "        async function convertToInteractive(key) {\n",
              "          const element = document.querySelector('#df-a5e52d53-e98a-46f3-9fca-56a59277bef2');\n",
              "          const dataTable =\n",
              "            await google.colab.kernel.invokeFunction('convertToInteractive',\n",
              "                                                     [key], {});\n",
              "          if (!dataTable) return;\n",
              "\n",
              "          const docLinkHtml = 'Like what you see? Visit the ' +\n",
              "            '<a target=\"_blank\" href=https://colab.research.google.com/notebooks/data_table.ipynb>data table notebook</a>'\n",
              "            + ' to learn more about interactive tables.';\n",
              "          element.innerHTML = '';\n",
              "          dataTable['output_type'] = 'display_data';\n",
              "          await google.colab.output.renderOutput(dataTable, element);\n",
              "          const docLink = document.createElement('div');\n",
              "          docLink.innerHTML = docLinkHtml;\n",
              "          element.appendChild(docLink);\n",
              "        }\n",
              "      </script>\n",
              "    </div>\n",
              "  </div>\n",
              "  "
            ]
          },
          "metadata": {},
          "execution_count": 72
        }
      ]
    },
    {
      "cell_type": "code",
      "source": [
        "# Predict\n",
        "preds_list, trend = double_exponential_smoothing(df['adj_close'][i-train_val_size:i].values, H, alpha_opt, beta_opt)\n",
        "print(\"Untuk prediksi dengan horizon %d, prediksi pada hari %d, tanggal %s, rata-rata nilai RMSE adalah %f\" % (H, i, df['date'][i], get_rmse(df[i:i+H]['adj_close'], preds_list)))\n",
        "print(\"Untuk prediksi dengan horizon %d, prediksi pada hari %d, tanggal %s, rata-rata nilai MAPE adalah %f\" % (H, i, df['date'][i], get_mape(df[i:i+H]['adj_close'], preds_list)))\n",
        "print(\"Untuk prediksi dengan horizon %d, prediksi pada hari %d, tanggal %s, rata-rata nilai MAE adalah %f\" % (H, i, df['date'][i], get_mae(df[i:i+H]['adj_close'], preds_list)))"
      ],
      "metadata": {
        "colab": {
          "base_uri": "https://localhost:8080/"
        },
        "id": "bEZvcjRfHf55",
        "outputId": "f2113d46-3e5b-4880-8f60-edbbcc3aa8e7"
      },
      "execution_count": 74,
      "outputs": [
        {
          "output_type": "stream",
          "name": "stdout",
          "text": [
            "Untuk prediksi dengan horizon 21, prediksi pada hari 1008, tanggal 2022-02-07 00:00:00, rata-rata nilai RMSE adalah 81.556593\n",
            "Untuk prediksi dengan horizon 21, prediksi pada hari 1008, tanggal 2022-02-07 00:00:00, rata-rata nilai MAPE adalah 4.180668\n",
            "Untuk prediksi dengan horizon 21, prediksi pada hari 1008, tanggal 2022-02-07 00:00:00, rata-rata nilai MAE adalah 73.215783\n"
          ]
        }
      ]
    },
    {
      "cell_type": "code",
      "source": [
        "# Plot the predictions\n",
        "rcParams['figure.figsize'] = 10, 8 # width 10, height 8\n",
        "matplotlib.rcParams.update({'font.size': 14})\n",
        "\n",
        "ax = df.plot(x='date', y='adj_close', style='bx-', grid=True)\n",
        "\n",
        "# Plot the predictions\n",
        "ax.plot(df['date'][i:i+H], preds_list, marker='x')\n",
        "    \n",
        "ax.set_xlabel(\"Tanggal\")\n",
        "ax.set_ylabel(\"Rupiah\")\n",
        "ax.legend(['adj_close', 'predictions'])\n",
        "ax.set_ylim([min(min(preds_list), df[(df['date']>=df['date'][i]-timedelta(days=daysBackward)) & (df['date']<=df['date'][i]+timedelta(days=daysForward))]['adj_close'].min()), \n",
        "             max(max(preds_list), df[(df['date']>=df['date'][i]-timedelta(days=daysBackward)) & (df['date']<=df['date'][i]+timedelta(days=daysForward))]['adj_close'].max())])\n",
        "ax.set_xlim([df['date'][i]-timedelta(days=daysBackward), df['date'][i]+timedelta(days=daysForward)])"
      ],
      "metadata": {
        "colab": {
          "base_uri": "https://localhost:8080/",
          "height": 518
        },
        "id": "_lTpsnqLHg59",
        "outputId": "9bfccede-d873-4038-fba1-35d96ad4f064"
      },
      "execution_count": 75,
      "outputs": [
        {
          "output_type": "execute_result",
          "data": {
            "text/plain": [
              "(738163.0, 738253.0)"
            ]
          },
          "metadata": {},
          "execution_count": 75
        },
        {
          "output_type": "display_data",
          "data": {
            "text/plain": [
              "<Figure size 720x576 with 1 Axes>"
            ],
            "image/png": "[encoded data removed]"
          },
          "metadata": {
            "needs_background": "light"
          }
        }
      ]
    }
  ]
}